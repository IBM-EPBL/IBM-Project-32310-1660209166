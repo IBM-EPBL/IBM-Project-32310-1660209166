{
  "nbformat": 4,
  "nbformat_minor": 0,
  "metadata": {
    "colab": {
      "provenance": [],
      "collapsed_sections": []
    },
    "kernelspec": {
      "name": "python3",
      "display_name": "Python 3"
    },
    "language_info": {
      "name": "python"
    }
  },
  "cells": [
    {
      "cell_type": "code",
      "execution_count": 1,
      "metadata": {
        "id": "rSzU7eIuhY5o"
      },
      "outputs": [],
      "source": [
        "import pandas as pd\n",
        "import numpy as np\n",
        "import matplotlib as plt\n",
        "from sklearn.preprocessing import LabelEncoder\n",
        "import pickle"
      ]
    },
    {
      "cell_type": "code",
      "source": [
        "df=pd.read_csv(\"autos.csv\",header=0,sep=',',encoding='latin',)"
      ],
      "metadata": {
        "id": "BAUcgPcKibMR"
      },
      "execution_count": 23,
      "outputs": []
    },
    {
      "cell_type": "code",
      "source": [
        "df.columns"
      ],
      "metadata": {
        "colab": {
          "base_uri": "https://localhost:8080/",
          "height": 0
        },
        "id": "IkW3XQvslRl9",
        "outputId": "e20f104c-938e-4005-d398-9ca20da20668"
      },
      "execution_count": 22,
      "outputs": [
        {
          "output_type": "execute_result",
          "data": {
            "text/plain": [
              "Index(['dateCrawled', 'name', 'offerType', 'price', 'abtest', 'vehicleType',\n",
              "       'yearOfRegistration', 'gearbox', 'powerPS', 'model', 'kilometer',\n",
              "       'monthOfRegistration', 'fuelType', 'brand', 'notRepairedDamage',\n",
              "       'dateCreated', 'nrOfPictures', 'postalCode', 'lastSeen'],\n",
              "      dtype='object')"
            ]
          },
          "metadata": {},
          "execution_count": 22
        }
      ]
    },
    {
      "cell_type": "code",
      "source": [
        "print(df.seller.value_counts()) \n",
        "df[df.seller != 'gewerblich'] \n",
        "df=df.drop('seller',1)\n",
        "print(df.offerType.value_counts()) \n",
        "df[df.offerType != 'Gesuch'] \n",
        "df=df.drop ('offerType',1)"
      ],
      "metadata": {
        "colab": {
          "base_uri": "https://localhost:8080/",
          "height": 0
        },
        "id": "QLvutzdYkMqw",
        "outputId": "7f1c20a4-0943-4c33-e662-b2bfde6704a0"
      },
      "execution_count": 24,
      "outputs": [
        {
          "output_type": "stream",
          "name": "stdout",
          "text": [
            "privat        371525\n",
            "gewerblich         3\n",
            "Name: seller, dtype: int64\n",
            "Angebot    371516\n",
            "Gesuch         12\n",
            "Name: offerType, dtype: int64\n"
          ]
        },
        {
          "output_type": "stream",
          "name": "stderr",
          "text": [
            "/usr/local/lib/python3.7/dist-packages/ipykernel_launcher.py:3: FutureWarning: In a future version of pandas all arguments of DataFrame.drop except for the argument 'labels' will be keyword-only\n",
            "  This is separate from the ipykernel package so we can avoid doing imports until\n",
            "/usr/local/lib/python3.7/dist-packages/ipykernel_launcher.py:6: FutureWarning: In a future version of pandas all arguments of DataFrame.drop except for the argument 'labels' will be keyword-only\n",
            "  \n"
          ]
        }
      ]
    },
    {
      "cell_type": "code",
      "source": [
        " print(df.shape) \n",
        " df = df[(df.powerPS > 50) & (df.powerPS <900)] \n",
        " print(df.shape) \n",
        " print(df.shape) \n",
        " df = df[(df.yearOfRegistration >= 1950) & (df.yearOfRegistration < 2017)] \n",
        " print(df.shape) \n",
        "\n"
      ],
      "metadata": {
        "colab": {
          "base_uri": "https://localhost:8080/",
          "height": 0
        },
        "id": "Fs0HRDirkNGZ",
        "outputId": "b4f2938d-ef5e-47e5-c975-b62d9740dbe3"
      },
      "execution_count": 25,
      "outputs": [
        {
          "output_type": "stream",
          "name": "stdout",
          "text": [
            "(371528, 18)\n",
            "(319709, 18)\n",
            "(319709, 18)\n",
            "(309171, 18)\n"
          ]
        }
      ]
    },
    {
      "cell_type": "code",
      "source": [
        " df.drop(['name', 'abtest', 'dateCrawled', 'nrOfPictures', 'lastSeen','postalCode', 'dateCreated'], axis='columns', inplace=True)"
      ],
      "metadata": {
        "id": "SA7A0nFqkNa8"
      },
      "execution_count": 26,
      "outputs": []
    },
    {
      "cell_type": "code",
      "source": [
        "new_df = df.copy() "
      ],
      "metadata": {
        "id": "ukCvwbQOnR_I"
      },
      "execution_count": 29,
      "outputs": []
    },
    {
      "cell_type": "code",
      "source": [
        "df.columns"
      ],
      "metadata": {
        "colab": {
          "base_uri": "https://localhost:8080/",
          "height": 0
        },
        "id": "WM25cbyAoya6",
        "outputId": "956a1631-de37-4813-bf61-dc9beda0b288"
      },
      "execution_count": 31,
      "outputs": [
        {
          "output_type": "execute_result",
          "data": {
            "text/plain": [
              "Index(['price', 'vehicleType', 'yearOfRegistration', 'gearbox', 'powerPS',\n",
              "       'model', 'kilometer', 'monthOfRegistration', 'fuelType', 'brand',\n",
              "       'notRepairedDamage'],\n",
              "      dtype='object')"
            ]
          },
          "metadata": {},
          "execution_count": 31
        }
      ]
    },
    {
      "cell_type": "code",
      "source": [
        "new_df.columns\n"
      ],
      "metadata": {
        "colab": {
          "base_uri": "https://localhost:8080/",
          "height": 0
        },
        "id": "uqJaWvLoo2Ks",
        "outputId": "d27db711-91d2-42b5-b919-8bfe1e146b41"
      },
      "execution_count": 32,
      "outputs": [
        {
          "output_type": "execute_result",
          "data": {
            "text/plain": [
              "Index(['price', 'vehicleType', 'yearOfRegistration', 'gearbox', 'powerPS',\n",
              "       'model', 'kilometer', 'monthOfRegistration', 'fuelType', 'brand',\n",
              "       'notRepairedDamage'],\n",
              "      dtype='object')"
            ]
          },
          "metadata": {},
          "execution_count": 32
        }
      ]
    },
    {
      "cell_type": "code",
      "source": [
        "\n",
        "new_df = new_df.drop_duplicates(['price', 'vehicleType', 'yearOfRegistration', 'gearbox', 'powerPS', 'model', 'kilometer', 'monthOfRegistration', 'fuelType' , 'notRepairedDamage'])\n",
        "\n"
      ],
      "metadata": {
        "id": "Ez6vE1aHmvPh"
      },
      "execution_count": 34,
      "outputs": []
    },
    {
      "cell_type": "code",
      "source": [
        "new_df.gearbox.replace(('manuell', 'automatik'), ('manual', 'automatic'), inplace=True) \n",
        "new_df.fuelType.replace(('benzin', 'andere', 'elektro'), ('petrol', 'others', 'electric'), inplace=True)\n",
        "new_df.vehicleType.replace(('kleinwagen', 'cabrio', 'kombi', 'andere'),('small car', 'convertible', 'combination', 'others'), inplace=True) \n",
        "new_df.notRepairedDamage.replace(('ja', 'nein'), ('Yes', 'No'), inplace=True)\n",
        "\n"
      ],
      "metadata": {
        "colab": {
          "base_uri": "https://localhost:8080/",
          "height": 0
        },
        "id": "lm9UaceUpYSN",
        "outputId": "ea7d1d27-5222-4ac7-a9be-4e9f14852e88"
      },
      "execution_count": 35,
      "outputs": [
        {
          "output_type": "stream",
          "name": "stderr",
          "text": [
            "/usr/local/lib/python3.7/dist-packages/pandas/core/generic.py:6619: SettingWithCopyWarning: \n",
            "A value is trying to be set on a copy of a slice from a DataFrame\n",
            "\n",
            "See the caveats in the documentation: https://pandas.pydata.org/pandas-docs/stable/user_guide/indexing.html#returning-a-view-versus-a-copy\n",
            "  return self._update_inplace(result)\n"
          ]
        }
      ]
    },
    {
      "cell_type": "code",
      "source": [
        "new_df = new_df[(new_df.price >= 100) & (new_df.price <= 150000)]\n",
        "new_df['notRepairedDamage'].fillna (value='not-declared', inplace=True) \n",
        "new_df['fuelType'].fillna(value='not-declared', inplace=True) \n",
        "new_df['gearbox'].fillna(value='not-declared', inplace=True)\n",
        "new_df['vehicleType'].fillna(value='not-declared', inplace=True) \n",
        "new_df['model'].fillna(value='not-declared', inplace=True)"
      ],
      "metadata": {
        "colab": {
          "base_uri": "https://localhost:8080/",
          "height": 0
        },
        "id": "1oUcNvvWjmNX",
        "outputId": "f0cd49c5-715b-472f-853c-60bfa5f62fe8"
      },
      "execution_count": 36,
      "outputs": [
        {
          "output_type": "stream",
          "name": "stderr",
          "text": [
            "/usr/local/lib/python3.7/dist-packages/pandas/core/generic.py:6392: SettingWithCopyWarning: \n",
            "A value is trying to be set on a copy of a slice from a DataFrame\n",
            "\n",
            "See the caveats in the documentation: https://pandas.pydata.org/pandas-docs/stable/user_guide/indexing.html#returning-a-view-versus-a-copy\n",
            "  return self._update_inplace(result)\n"
          ]
        }
      ]
    },
    {
      "cell_type": "code",
      "source": [
        "new_df.to_csv(\"autos_preprocessed.csv\")"
      ],
      "metadata": {
        "id": "pp6cWZzzkEHo"
      },
      "execution_count": 37,
      "outputs": []
    },
    {
      "cell_type": "code",
      "source": [
        "labels = ['gearbox', 'notRepairedDamage', 'model', 'brand', 'fuelType', 'vehicleType']\n",
        "mapper = {}\n",
        "for i in labels:\n",
        "  mapper[i] = LabelEncoder() \n",
        "  mapper[i].fit(new_df[i]) \n",
        "  tr = mapper[i].transform(new_df[i])\n",
        "  np.save(str('classes'+i+'.npy'), mapper[i].classes_)\n",
        "  print(i,\":\", mapper[i])\n",
        "  new_df.loc[:, i + '_labels'] = pd. Series (tr, index=new_df.index)\n",
        "\n",
        "labeled = new_df[ ['price','yearOfRegistration' , 'powerPS' ,'kilometer' , 'monthOfRegistration']+ [x+\"_labels\" for x in labels]]\n",
        "print(labeled.columns)\n",
        "\n"
      ],
      "metadata": {
        "colab": {
          "base_uri": "https://localhost:8080/",
          "height": 0
        },
        "id": "JkiI4Hogp9i5",
        "outputId": "7db06da0-3139-48bf-be92-c6a297e37d33"
      },
      "execution_count": 40,
      "outputs": [
        {
          "output_type": "stream",
          "name": "stdout",
          "text": [
            "gearbox : LabelEncoder()\n",
            "notRepairedDamage : LabelEncoder()\n",
            "model : LabelEncoder()\n",
            "brand : LabelEncoder()\n",
            "fuelType : LabelEncoder()\n",
            "vehicleType : LabelEncoder()\n",
            "Index(['price', 'yearOfRegistration', 'powerPS', 'kilometer',\n",
            "       'monthOfRegistration', 'gearbox_labels', 'notRepairedDamage_labels',\n",
            "       'model_labels', 'brand_labels', 'fuelType_labels',\n",
            "       'vehicleType_labels'],\n",
            "      dtype='object')\n"
          ]
        }
      ]
    },
    {
      "cell_type": "code",
      "source": [
        "Y=labeled.iloc[:,0].values\n",
        "X=labeled.iloc[:,1:].values\n",
        "Y=Y.reshape(-1,1)"
      ],
      "metadata": {
        "id": "8VyAgnP2q9u5"
      },
      "execution_count": 41,
      "outputs": []
    },
    {
      "cell_type": "code",
      "source": [
        "from sklearn.model_selection import cross_val_score, train_test_split \n",
        "X_train, X_test, Y_train, Y_test = train_test_split(X, Y, test_size=0.3, random_state = 3)\n",
        "\n"
      ],
      "metadata": {
        "id": "05sg-cMzsNWH"
      },
      "execution_count": 42,
      "outputs": []
    }
  ]
}